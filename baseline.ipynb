{
 "cells": [
  {
   "cell_type": "code",
   "execution_count": 486,
   "metadata": {},
   "outputs": [],
   "source": [
    "from ucimlrepo import fetch_ucirepo \n",
    "import numpy as np\n",
    "from sklearn.preprocessing import LabelEncoder\n",
    "from sklearn.model_selection import train_test_split\n",
    "import torch\n",
    "import torch.nn as nn\n",
    "import torch.nn.functional as F\n",
    "from torch.utils.data import Dataset\n",
    "from torch.utils.data import DataLoader\n",
    "from torch.utils.data.dataloader import default_collate"
   ]
  },
  {
   "cell_type": "code",
   "execution_count": 487,
   "metadata": {},
   "outputs": [],
   "source": [
    "# Define hyperparameters\n",
    "\n",
    "device = \"cuda:0\" if torch.cuda.is_available() else \"cpu\"\n",
    "EMBED_DIM = 32\n",
    "BATCH_SIZE = 1000\n",
    "DROPOUT = 0.2\n",
    "LR=6e-3\n",
    "WD=1e-5"
   ]
  },
  {
   "cell_type": "code",
   "execution_count": 488,
   "metadata": {},
   "outputs": [],
   "source": [
    "# Import the adults dataset as pandas dataframes\n",
    "adult = fetch_ucirepo(id=2) \n",
    "X = adult.data.features \n",
    "y = adult.data.targets\n",
    "\n",
    "X = X.drop(['occupation'], axis=1)"
   ]
  },
  {
   "cell_type": "code",
   "execution_count": 489,
   "metadata": {},
   "outputs": [
    {
     "name": "stdout",
     "output_type": "stream",
     "text": [
      "Index(['workclass', 'education', 'marital-status', 'relationship', 'race',\n",
      "       'sex', 'native-country'],\n",
      "      dtype='object')\n"
     ]
    }
   ],
   "source": [
    "# Get features with categorical data \n",
    "categorical_columns = X.select_dtypes(include=['object']).columns\n",
    "print(categorical_columns)\n",
    "targets = y.select_dtypes(include=['object']).columns\n",
    "label_mappings = {} # Dict to remember label -> category mapping\n",
    "unique_per_cols = {} # Keep track of unique categories per feature"
   ]
  },
  {
   "cell_type": "code",
   "execution_count": 490,
   "metadata": {},
   "outputs": [],
   "source": [
    "# Create numeric labels for categorical features\n",
    "label_encoder = LabelEncoder()\n",
    "for col in categorical_columns:\n",
    "    X.loc[:, col] = label_encoder.fit_transform(X[col].astype(str))\n",
    "    label_mappings[col] = dict(zip(label_encoder.classes_, label_encoder.transform(label_encoder.classes_)))\n",
    "    unique_per_cols[col] = len(set(X[col])) # Add to \n",
    "\n",
    "# Create numeric labels for classification \n",
    "for col in targets:\n",
    "    y.loc[:, col] = label_encoder.fit_transform(y[col].astype(str))\n",
    "    label_mappings[col] = dict(zip(label_encoder.classes_, label_encoder.transform(label_encoder.classes_)))"
   ]
  },
  {
   "cell_type": "code",
   "execution_count": 491,
   "metadata": {},
   "outputs": [
    {
     "name": "stdout",
     "output_type": "stream",
     "text": [
      "Index(['age', 'fnlwgt', 'education-num', 'capital-gain', 'capital-loss',\n",
      "       'hours-per-week'],\n",
      "      dtype='object')\n"
     ]
    }
   ],
   "source": [
    "# Handle nan for discrete data by replacing with avg value of the feature\n",
    "print(X.select_dtypes(include=['int', 'float']).columns)\n",
    "for col in X.select_dtypes(include=['int', 'float']).columns:\n",
    "    X.loc[:, col].fillna(X[col].median(), inplace=True) \n",
    "\n",
    "# idk why but there is stupid SettingWithCopyWarning error here"
   ]
  },
  {
   "cell_type": "code",
   "execution_count": 492,
   "metadata": {},
   "outputs": [],
   "source": [
    "# Define our own dataset class for easier processing\n",
    "class AdultDataset(Dataset):\n",
    "    def __init__(self, X, Y, emb_cols):\n",
    "        X = X.copy()\n",
    "        Y = Y.copy().values.astype(np.int64)\n",
    "        self.X1 = X.loc[:,emb_cols].copy().values.astype(np.int64) # categorical columns\n",
    "        self.X2 = X.drop(columns=emb_cols).copy().values.astype(np.float32) #numerical columns\n",
    "        self.y = Y\n",
    "      \n",
    "        \n",
    "    def __len__(self):\n",
    "        return len(self.y)\n",
    "    \n",
    "    def __getitem__(self, idx):\n",
    "        return self.X1[idx], self.X2[idx], self.y[idx]"
   ]
  },
  {
   "cell_type": "code",
   "execution_count": 493,
   "metadata": {},
   "outputs": [],
   "source": [
    "# Load our dataset with AdultDataset class\n",
    "train_tmp = AdultDataset(X[:-5000], y[:-5000], emb_cols=categorical_columns)\n",
    "val_tmp = AdultDataset(X[-5000:], y[-5000:], emb_cols=categorical_columns)\n",
    "\n",
    "train = DataLoader(train_tmp, batch_size=BATCH_SIZE,shuffle=True,drop_last=True,\n",
    "                   collate_fn=lambda x: tuple(x_.to(device) for x_ in default_collate(x)))\n",
    "val = DataLoader(val_tmp, batch_size=BATCH_SIZE,shuffle=True,drop_last=True,\n",
    "                 collate_fn=lambda x: tuple(x_.to(device) for x_ in default_collate(x)))"
   ]
  },
  {
   "cell_type": "code",
   "execution_count": 494,
   "metadata": {},
   "outputs": [],
   "source": [
    "# Define our model \n",
    "class IncomePredictor(nn.Module):\n",
    "\n",
    "    # Arg: embedding_sizes -> [CATEGORIES, EMBED_SIZE] for categorical features\n",
    "    #      n_cont -> number of continuous features\n",
    "    def __init__(self, embedding_sizes, n_cont):\n",
    "        super().__init__()\n",
    "        self.embeddings = nn.ModuleList([nn.Embedding(categories, size) for categories,size in embedding_sizes])\n",
    "        n_emb = sum(e.embedding_dim for e in self.embeddings) \n",
    "        self.n_emb, self.n_cont = n_emb, n_cont\n",
    "\n",
    "        # Linear layers \n",
    "        self.lin1 = nn.Linear(self.n_emb + self.n_cont, 100)\n",
    "        self.lin2 = nn.Linear(100, 50)\n",
    "        self.lin3 = nn.Linear(50, 5)\n",
    "\n",
    "        # Normalization layers\n",
    "        self.bn1 = nn.BatchNorm1d(self.n_cont)\n",
    "        self.bn2 = nn.BatchNorm1d(100)\n",
    "        self.bn3 = nn.BatchNorm1d(50)\n",
    "\n",
    "        # Dropout layers\n",
    "        self.emb_drop = nn.Dropout(DROPOUT)\n",
    "        self.drops = nn.Dropout(DROPOUT)\n",
    "        \n",
    "    # Arg: x_cat -> categorical features of X\n",
    "    #      x_cont -> continuous features of X\n",
    "    def forward(self, x_cat, x_cont):\n",
    "        \n",
    "        # Pass each categorical feature through its respective embedding layer and concatenate\n",
    "        x = [e(x_cat[:,i]) for i,e in enumerate(self.embeddings)]\n",
    "        x = torch.cat(x, 1)\n",
    "        x = self.emb_drop(x)\n",
    "\n",
    "        # Normalize continuous data\n",
    "        x2 = self.bn1(x_cont)\n",
    "\n",
    "        # Concatenate categorical + continuous data \n",
    "        x = torch.cat([x, x2], 1)\n",
    "\n",
    "        # Pass through activation function \n",
    "        x = F.relu(self.lin1(x))\n",
    "        x = self.drops(x)\n",
    "        x = self.bn2(x)\n",
    "        x = F.relu(self.lin2(x))\n",
    "        x = self.drops(x)\n",
    "        x = self.bn3(x)\n",
    "        x = self.lin3(x)\n",
    "        return x"
   ]
  },
  {
   "cell_type": "code",
   "execution_count": 495,
   "metadata": {},
   "outputs": [
    {
     "data": {
      "text/plain": [
       "IncomePredictor(\n",
       "  (embeddings): ModuleList(\n",
       "    (0): Embedding(10, 32)\n",
       "    (1): Embedding(16, 32)\n",
       "    (2): Embedding(7, 32)\n",
       "    (3): Embedding(6, 32)\n",
       "    (4): Embedding(5, 32)\n",
       "    (5): Embedding(2, 32)\n",
       "    (6): Embedding(43, 32)\n",
       "  )\n",
       "  (lin1): Linear(in_features=230, out_features=100, bias=True)\n",
       "  (lin2): Linear(in_features=100, out_features=50, bias=True)\n",
       "  (lin3): Linear(in_features=50, out_features=5, bias=True)\n",
       "  (bn1): BatchNorm1d(6, eps=1e-05, momentum=0.1, affine=True, track_running_stats=True)\n",
       "  (bn2): BatchNorm1d(100, eps=1e-05, momentum=0.1, affine=True, track_running_stats=True)\n",
       "  (bn3): BatchNorm1d(50, eps=1e-05, momentum=0.1, affine=True, track_running_stats=True)\n",
       "  (emb_drop): Dropout(p=0.2, inplace=False)\n",
       "  (drops): Dropout(p=0.2, inplace=False)\n",
       ")"
      ]
     },
     "execution_count": 495,
     "metadata": {},
     "output_type": "execute_result"
    }
   ],
   "source": [
    "# Create model \n",
    "embedding_sizes = [(n_categories, EMBED_DIM) for _,n_categories in unique_per_cols.items()] \n",
    "# embedding_sizes = [(c, min(50, (c+1)//2)) for _,c in unique_per_cols.items()] #embedding sizes for the chosen columns\n",
    "model = IncomePredictor(embedding_sizes, len(X.select_dtypes(include=['int', 'float']).columns))\n",
    "model.to(device)\n",
    "# Note: using fixed EMBED_DIM size for all categorical features for now, can vary later ex: greater dim for features with more categories"
   ]
  },
  {
   "cell_type": "code",
   "execution_count": 496,
   "metadata": {},
   "outputs": [],
   "source": [
    "# Pytorch optimizer (using Adam)\n",
    "def get_optimizer(model, lr = 0.001, wd = 0.0):\n",
    "    parameters = filter(lambda p: p.requires_grad, model.parameters())\n",
    "    optim = torch.optim.Adam(parameters, lr=lr, weight_decay=wd)\n",
    "    return optim"
   ]
  },
  {
   "cell_type": "code",
   "execution_count": 497,
   "metadata": {},
   "outputs": [],
   "source": [
    "# One training step\n",
    "def train_model(model, optim, train_dl):\n",
    "    model.train()\n",
    "    total = 0\n",
    "    sum_loss = 0\n",
    "    for x1, x2, y in train_dl:\n",
    "        batch = y.shape[0]\n",
    "        out = model(x1, x2)\n",
    "        loss = F.cross_entropy(out, torch.flatten(y)) # Reshape target tensor\n",
    "        optim.zero_grad()\n",
    "        loss.backward()\n",
    "        optim.step()\n",
    "        total += batch\n",
    "        sum_loss += batch*(loss.item())\n",
    "    return sum_loss/total"
   ]
  },
  {
   "cell_type": "code",
   "execution_count": 498,
   "metadata": {},
   "outputs": [],
   "source": [
    "# Calculates validation loss\n",
    "def val_err(model, valid_dl):\n",
    "    model.eval()\n",
    "    total = 0\n",
    "    sum_loss = 0\n",
    "    correct = 0\n",
    "    for x1, x2, y in valid_dl:\n",
    "        current_batch_size = y.shape[0]\n",
    "        out = model(x1, x2)\n",
    "        loss = F.cross_entropy(out, torch.flatten(y)) # Reshape target tensor\n",
    "        sum_loss += current_batch_size*(loss.item())\n",
    "        total += current_batch_size\n",
    "        pred = torch.max(out, 1)[1]\n",
    "        correct += (pred == y).float().sum().item()\n",
    "    return sum_loss/total, correct/total"
   ]
  },
  {
   "cell_type": "code",
   "execution_count": 499,
   "metadata": {},
   "outputs": [],
   "source": [
    "# Training loop\n",
    "train_errs = []\n",
    "val_errs = []\n",
    "accuracies = []\n",
    " \n",
    "def train_loop(model, epochs, lr=0.01, wd=0.0):\n",
    "    optim = get_optimizer(model, lr = lr, wd = wd)\n",
    "    for i in range(epochs): \n",
    "        train_loss = train_model(model, optim, train)\n",
    "        val_loss, acc = val_err(model, val)\n",
    "\n",
    "        if i % 10 == 0:\n",
    "            print(f\"Epoch {i}: train loss {train_loss:.5f}, val loss {val_loss:.5f}, accuracy {acc:.5f}\")\n",
    "        \n",
    "        train_errs.append(train_loss)\n",
    "        val_errs.append(val_loss)\n",
    "        accuracies.append(acc)\n",
    "            "
   ]
  },
  {
   "cell_type": "code",
   "execution_count": 500,
   "metadata": {},
   "outputs": [
    {
     "name": "stdout",
     "output_type": "stream",
     "text": [
      "Epoch 0: train loss 1.15737, val loss 1.73194, accuracy 44.35880\n",
      "Epoch 10: train loss 0.85085, val loss 1.50269, accuracy 54.63680\n",
      "Epoch 20: train loss 0.83899, val loss 1.61930, accuracy 54.26140\n",
      "Epoch 30: train loss 0.83380, val loss 1.54705, accuracy 55.82160\n",
      "Epoch 40: train loss 0.83159, val loss 1.61046, accuracy 57.36300\n",
      "Epoch 50: train loss 0.82829, val loss 1.59071, accuracy 55.32220\n",
      "Epoch 60: train loss 0.82304, val loss 1.57904, accuracy 56.29480\n",
      "Epoch 70: train loss 0.82352, val loss 1.57397, accuracy 55.38960\n",
      "Epoch 80: train loss 0.81861, val loss 1.56422, accuracy 56.71440\n",
      "Epoch 90: train loss 0.81902, val loss 1.57763, accuracy 55.20440\n"
     ]
    }
   ],
   "source": [
    "epochs = 100\n",
    "train_loop(model, epochs=epochs, lr=LR, wd=WD)"
   ]
  },
  {
   "cell_type": "code",
   "execution_count": 501,
   "metadata": {},
   "outputs": [
    {
     "data": {
      "image/png": "[encoded data removed]",
      "text/plain": [
       "<Figure size 640x480 with 1 Axes>"
      ]
     },
     "metadata": {},
     "output_type": "display_data"
    },
    {
     "data": {
      "image/png": "[encoded data removed]",
      "text/plain": [
       "<Figure size 640x480 with 1 Axes>"
      ]
     },
     "metadata": {},
     "output_type": "display_data"
    }
   ],
   "source": [
    "import matplotlib.pyplot as plt\n",
    "\n",
    "plt.plot([i for i in range(len(train_errs))], train_errs,color='r', label='Train loss')\n",
    "plt.plot([i for i in range(len(train_errs))], val_errs,color='b', label='Val loss')\n",
    "plt.xlabel('Epoch #')\n",
    "plt.ylabel('loss')\n",
    "plt.legend()\n",
    "plt.show()\n",
    "plt.plot([i for i in range(len(accuracies))], accuracies, color='green', label='Accuracy')\n",
    "plt.xlabel('Epoch #')\n",
    "plt.show()"
   ]
  },
  {
   "cell_type": "code",
   "execution_count": 502,
   "metadata": {},
   "outputs": [],
   "source": [
    "with open('data.txt', 'a') as f:\n",
    "    f.write(f'{EMBED_DIM} {BATCH_SIZE} {DROPOUT} {LR} {WD} Adam\\n')  \n",
    "    f.write(f'{train_errs}\\n{val_errs}\\n{accuracies}\\n')"
   ]
  }
 ],
 "metadata": {
  "kernelspec": {
   "display_name": "Python 3",
   "language": "python",
   "name": "python3"
  },
  "language_info": {
   "codemirror_mode": {
    "name": "ipython",
    "version": 3
   },
   "file_extension": ".py",
   "mimetype": "text/x-python",
   "name": "python",
   "nbconvert_exporter": "python",
   "pygments_lexer": "ipython3",
   "version": "3.11.4"
  }
 },
 "nbformat": 4,
 "nbformat_minor": 2
}
